{
 "cells": [
  {
   "cell_type": "markdown",
   "metadata": {},
   "source": [
    "# Assignment 1: Logistic Regression\n",
    "Welcome to week one of this specialization. You will learn about logistic regression. Concretely, you will be implementing logistic regression for sentiment analysis on tweets. Given a tweet, you will decide if it has a positive sentiment or a negative one. Specifically you will: \n",
    "\n",
    "* Learn how to extract features for logistic regression given some text\n",
    "* Implement logistic regression from scratch\n",
    "* Apply logistic regression on a natural language processing task\n",
    "* Test using your logistic regression\n",
    "* Perform error analysis\n",
    "\n",
    "## Important Note on Submission to the AutoGrader\n",
    "\n",
    "Before submitting your assignment to the AutoGrader, please make sure you are not doing the following:\n",
    "\n",
    "1. You have not added any _extra_ `print` statement(s) in the assignment.\n",
    "2. You have not added any _extra_ code cell(s) in the assignment.\n",
    "3. You have not changed any of the function parameters.\n",
    "4. You are not using any global variables inside your graded exercises. Unless specifically instructed to do so, please refrain from it and use the local variables instead.\n",
    "5. You are not changing the assignment code where it is not required, like creating _extra_ variables.\n",
    "\n",
    "If you do any of the following, you will get something like, `Grader Error: Grader feedback not found` (or similarly unexpected) error upon submitting your assignment. Before asking for help/debugging the errors in your assignment, check for these first. If this is the case, and you don't remember the changes you have made, you can get a fresh copy of the assignment by following these [instructions](https://www.coursera.org/learn/classification-vector-spaces-in-nlp/supplement/YLuAg/h-ow-to-refresh-your-workspace).\n",
    "\n",
    "Lets get started!\n",
    "\n",
    "We will be using a data set of tweets. Hopefully you will get more than 99% accuracy.  \n",
    "Run the cell below to load in the packages."
   ]
  },
  {
   "cell_type": "markdown",
   "metadata": {},
   "source": [
    "## Table of Contents\n",
    "\n",
    "- [Import Functions and Data](#0)\n",
    "- [1 - Logistic Regression](#1)\n",
    "    - [1.1 - Sigmoid](#1-1)\n",
    "        - [Exercise 1 - sigmoid (UNQ_C1)](#ex-1)\n",
    "    - [1.2 - Cost function and Gradient](#1-2)\n",
    "        - [Exercise 2 - gradientDescent (UNQ_C2)](#ex-2)\n",
    "- [2 - Extracting the Features](#2)\n",
    "    - [Exercise 3 - extract_features (UNQ_C3)](#ex-3)\n",
    "- [3 - Training Your Model](#3)\n",
    "- [4 - Test your Logistic Regression](#4)\n",
    "    - [Exercise 4 - predict_tweet (UNQ_C4)](#ex-4)\n",
    "    - [4.1 - Check the Performance using the Test Set](#4-1)\n",
    "        - [Exercise 5 - test_logistic_regression (UNQ_C5)](#ex-5)\n",
    "- [5 - Error Analysis](#5)\n",
    "- [6 - Predict with your own Tweet](#6)"
   ]
  },
  {
   "cell_type": "markdown",
   "metadata": {},
   "source": [
    "<a name='0'></a>\n",
    "## Import Functions and Data"
   ]
  },
  {
   "cell_type": "code",
   "execution_count": 1,
   "metadata": {},
   "outputs": [
    {
     "name": "stderr",
     "output_type": "stream",
     "text": [
      "[nltk_data] Downloading package twitter_samples to\n",
      "[nltk_data]     /home/jovyan/nltk_data...\n",
      "[nltk_data]   Unzipping corpora/twitter_samples.zip.\n",
      "[nltk_data] Downloading package stopwords to /home/jovyan/nltk_data...\n",
      "[nltk_data]   Unzipping corpora/stopwords.zip.\n"
     ]
    },
    {
     "data": {
      "text/plain": [
       "True"
      ]
     },
     "execution_count": 1,
     "metadata": {},
     "output_type": "execute_result"
    }
   ],
   "source": [
    "# run this cell to import nltk\n",
    "import nltk\n",
    "from os import getcwd\n",
    "import w1_unittest\n",
    "\n",
    "nltk.download('twitter_samples')\n",
    "nltk.download('stopwords')"
   ]
  },
  {
   "cell_type": "markdown",
   "metadata": {},
   "source": [
    "### Imported Functions\n",
    "\n",
    "Download the data needed for this assignment. Check out the [documentation for the twitter_samples dataset](http://www.nltk.org/howto/twitter.html).\n",
    "\n",
    "* twitter_samples: if you're running this notebook on your local computer, you will need to download it using:\n",
    "```Python\n",
    "nltk.download('twitter_samples')\n",
    "```\n",
    "\n",
    "* stopwords: if you're running this notebook on your local computer, you will need to download it using:\n",
    "```python\n",
    "nltk.download('stopwords')\n",
    "```\n",
    "\n",
    "#### Import some helper functions that we provided in the utils.py file:\n",
    "* process_tweet: cleans the text, tokenizes it into separate words, removes stopwords, and converts words to stems.\n",
    "* build_freqs: this counts how often a word in the 'corpus' (the entire set of tweets) was associated with a positive label '1' or a negative label '0', then builds the 'freqs' dictionary, where each key is the (word,label) tuple, and the value is the count of its frequency within the corpus of tweets."
   ]
  },
  {
   "cell_type": "code",
   "execution_count": 2,
   "metadata": {},
   "outputs": [],
   "source": [
    "filePath = f\"{getcwd()}/../tmp2/\"\n",
    "nltk.data.path.append(filePath)"
   ]
  },
  {
   "cell_type": "code",
   "execution_count": 3,
   "metadata": {},
   "outputs": [],
   "source": [
    "import numpy as np\n",
    "import pandas as pd\n",
    "from nltk.corpus import twitter_samples \n",
    "\n",
    "from utils import process_tweet, build_freqs"
   ]
  },
  {
   "cell_type": "markdown",
   "metadata": {},
   "source": [
    "### Prepare the Data\n",
    "* The `twitter_samples` contains subsets of five thousand positive_tweets, five thousand negative_tweets, and the full set of 10,000 tweets.  \n",
    "    * If you used all three datasets, we would introduce duplicates of the positive tweets and negative tweets.  \n",
    "    * You will select just the five thousand positive tweets and five thousand negative tweets."
   ]
  },
  {
   "cell_type": "code",
   "execution_count": 4,
   "metadata": {},
   "outputs": [],
   "source": [
    "# select the set of positive and negative tweets\n",
    "all_positive_tweets = twitter_samples.strings('positive_tweets.json')\n",
    "all_negative_tweets = twitter_samples.strings('negative_tweets.json')"
   ]
  },
  {
   "cell_type": "markdown",
   "metadata": {},
   "source": [
    "* Train test split: 20% will be in the test set, and 80% in the training set.\n"
   ]
  },
  {
   "cell_type": "code",
   "execution_count": 5,
   "metadata": {},
   "outputs": [],
   "source": [
    "# split the data into two pieces, one for training and one for testing (validation set) \n",
    "test_pos = all_positive_tweets[4000:]\n",
    "train_pos = all_positive_tweets[:4000]\n",
    "test_neg = all_negative_tweets[4000:]\n",
    "train_neg = all_negative_tweets[:4000]\n",
    "\n",
    "train_x = train_pos + train_neg \n",
    "test_x = test_pos + test_neg"
   ]
  },
  {
   "cell_type": "markdown",
   "metadata": {},
   "source": [
    "* Create the numpy array of positive labels and negative labels."
   ]
  },
  {
   "cell_type": "code",
   "execution_count": 6,
   "metadata": {},
   "outputs": [],
   "source": [
    "# combine positive and negative labels\n",
    "train_y = np.append(np.ones((len(train_pos), 1)), np.zeros((len(train_neg), 1)), axis=0)\n",
    "test_y = np.append(np.ones((len(test_pos), 1)), np.zeros((len(test_neg), 1)), axis=0)"
   ]
  },
  {
   "cell_type": "code",
   "execution_count": 7,
   "metadata": {},
   "outputs": [
    {
     "name": "stdout",
     "output_type": "stream",
     "text": [
      "train_y.shape = (8000, 1)\n",
      "test_y.shape = (2000, 1)\n"
     ]
    }
   ],
   "source": [
    "# Print the shape train and test sets\n",
    "print(\"train_y.shape = \" + str(train_y.shape))\n",
    "print(\"test_y.shape = \" + str(test_y.shape))"
   ]
  },
  {
   "cell_type": "markdown",
   "metadata": {},
   "source": [
    "* Create the frequency dictionary using the imported build_freqs function.  \n",
    "    * We highly recommend that you open utils.py and read the build_freqs function to understand what it is doing.\n",
    "    * To view the file directory, go to the menu and click File->Open.\n",
    "\n",
    "```Python\n",
    "    for y,tweet in zip(ys, tweets):\n",
    "        for word in process_tweet(tweet):\n",
    "            pair = (word, y)\n",
    "            if pair in freqs:\n",
    "                freqs[pair] += 1\n",
    "            else:\n",
    "                freqs[pair] = 1\n",
    "```\n",
    "* Notice how the outer for loop goes through each tweet, and the inner for loop steps through each word in a tweet.\n",
    "* The 'freqs' dictionary is the frequency dictionary that's being built. \n",
    "* The key is the tuple (word, label), such as (\"happy\",1) or (\"happy\",0).  The value stored for each key is the count of how many times the word \"happy\" was associated with a positive label, or how many times \"happy\" was associated with a negative label."
   ]
  },
  {
   "cell_type": "code",
   "execution_count": 8,
   "metadata": {},
   "outputs": [
    {
     "name": "stdout",
     "output_type": "stream",
     "text": [
      "type(freqs) = <class 'dict'>\n",
      "len(freqs) = 11436\n"
     ]
    }
   ],
   "source": [
    "# create frequency dictionary\n",
    "freqs = build_freqs(train_x, train_y)\n",
    "\n",
    "# check the output\n",
    "print(\"type(freqs) = \" + str(type(freqs)))\n",
    "print(\"len(freqs) = \" + str(len(freqs.keys())))"
   ]
  },
  {
   "cell_type": "markdown",
   "metadata": {},
   "source": [
    "#### Expected output\n",
    "```\n",
    "type(freqs) = <class 'dict'>\n",
    "len(freqs) = 11436\n",
    "```"
   ]
  },
  {
   "cell_type": "markdown",
   "metadata": {},
   "source": [
    "### Process Tweet\n",
    "The given function 'process_tweet' tokenizes the tweet into individual words, removes stop words and applies stemming."
   ]
  },
  {
   "cell_type": "code",
   "execution_count": 9,
   "metadata": {},
   "outputs": [
    {
     "name": "stdout",
     "output_type": "stream",
     "text": [
      "This is an example of a positive tweet: \n",
      " #FollowFriday @France_Inte @PKuchly57 @Milipol_Paris for being top engaged members in my community this week :)\n",
      "\n",
      "This is an example of the processed version of the tweet: \n",
      " ['followfriday', 'top', 'engag', 'member', 'commun', 'week', ':)']\n"
     ]
    }
   ],
   "source": [
    "# test the function below\n",
    "print('This is an example of a positive tweet: \\n', train_x[0])\n",
    "print('\\nThis is an example of the processed version of the tweet: \\n', process_tweet(train_x[0]))"
   ]
  },
  {
   "cell_type": "markdown",
   "metadata": {},
   "source": [
    "#### Expected output\n",
    "```\n",
    "This is an example of a positive tweet: \n",
    " #FollowFriday @France_Inte @PKuchly57 @Milipol_Paris for being top engaged members in my community this week :)\n",
    " \n",
    "This is an example of the processes version: \n",
    " ['followfriday', 'top', 'engag', 'member', 'commun', 'week', ':)']\n",
    "```"
   ]
  },
  {
   "cell_type": "markdown",
   "metadata": {},
   "source": [
    "<a name='1'></a>\n",
    "## 1 - Logistic Regression \n",
    "\n",
    "<a name='1-1'></a>\n",
    "### 1.1 - Sigmoid\n",
    "You will learn to use logistic regression for text classification. \n",
    "* The sigmoid function is defined as: \n",
    "\n",
    "$$ h(z) = \\frac{1}{1+\\exp^{-z}} \\tag{1}$$\n",
    "\n",
    "It maps the input 'z' to a value that ranges between 0 and 1, and so it can be treated as a probability. \n",
    "\n",
    "<div style=\"width:image width px; font-size:100%; text-align:center;\"><img src='./images/sigmoid_plot.jpg' alt=\"alternate text\" width=\"width\" height=\"height\" style=\"width:300px;height:200px;\" /> Figure 1 </div>"
   ]
  },
  {
   "cell_type": "markdown",
   "metadata": {},
   "source": [
    "<a name='ex-1'></a>\n",
    "### Exercise 1 -  sigmoid\n",
    "Implement the sigmoid function. \n",
    "* You will want this function to work if z is a scalar as well as if it is an array."
   ]
  },
  {
   "cell_type": "markdown",
   "metadata": {},
   "source": [
    "<details>    \n",
    "<summary>\n",
    "    <font size=\"3\" color=\"darkgreen\"><b>Hints</b></font>\n",
    "</summary>\n",
    "<p>\n",
    "<ul>\n",
    "    <li><a href=\"https://docs.scipy.org/doc/numpy/reference/generated/numpy.exp.html\" > numpy.exp </a> </li>\n",
    "\n",
    "</ul>\n",
    "</p>\n",
    "\n"
   ]
  },
  {
   "cell_type": "code",
   "execution_count": 10,
   "metadata": {},
   "outputs": [],
   "source": [
    "# UNQ_C1 GRADED FUNCTION: sigmoid\n",
    "from math import exp\n",
    "def sigmoid(z): \n",
    "    '''\n",
    "    Input:\n",
    "        z: is the input (can be a scalar or an array)\n",
    "    Output:\n",
    "        h: the sigmoid of z\n",
    "    '''\n",
    "    \n",
    "    ### START CODE HERE ###\n",
    "    # calculate the sigmoid of z\n",
    "    h = 1/(1+exp(-z))\n",
    "    ### END CODE HERE ###\n",
    "    \n",
    "    return h"
   ]
  },
  {
   "cell_type": "code",
   "execution_count": 11,
   "metadata": {},
   "outputs": [
    {
     "name": "stdout",
     "output_type": "stream",
     "text": [
      "SUCCESS!\n",
      "CORRECT!\n"
     ]
    }
   ],
   "source": [
    "# Testing your function \n",
    "if (sigmoid(0) == 0.5):\n",
    "    print('SUCCESS!')\n",
    "else:\n",
    "    print('Oops!')\n",
    "\n",
    "if (sigmoid(4.92) == 0.9927537604041685):\n",
    "    print('CORRECT!')\n",
    "else:\n",
    "    print('Oops again!')"
   ]
  },
  {
   "cell_type": "code",
   "execution_count": 12,
   "metadata": {},
   "outputs": [
    {
     "name": "stdout",
     "output_type": "stream",
     "text": [
      "\u001b[92m All tests passed\n"
     ]
    }
   ],
   "source": [
    "# Test your function\n",
    "w1_unittest.test_sigmoid(sigmoid)"
   ]
  },
  {
   "cell_type": "markdown",
   "metadata": {},
   "source": [
    "#### Logistic Regression: Regression and a Sigmoid\n",
    "\n",
    "Logistic regression takes a regular linear regression, and applies a sigmoid to the output of the linear regression.\n",
    "\n",
    "Regression:\n",
    "$$z = \\theta_0 x_0 + \\theta_1 x_1 + \\theta_2 x_2 + ... \\theta_N x_N$$\n",
    "Note that the $\\theta$ values are \"weights\". If you took the deep learning specialization, we referred to the weights with the 'w' vector.  In this course, we're using a different variable $\\theta$ to refer to the weights.\n",
    "\n",
    "Logistic regression\n",
    "$$ h(z) = \\frac{1}{1+\\exp^{-z}}$$\n",
    "$$z = \\theta_0 x_0 + \\theta_1 x_1 + \\theta_2 x_2 + ... \\theta_N x_N$$\n",
    "We will refer to 'z' as the 'logits'."
   ]
  },
  {
   "cell_type": "markdown",
   "metadata": {},
   "source": [
    "<a name='1-2'></a>\n",
    "### 1.2 - Cost function and Gradient\n",
    "\n",
    "The cost function used for logistic regression is the average of the log loss across all training examples:\n",
    "\n",
    "$$J(\\theta) = -\\frac{1}{m} \\sum_{i=1}^m y^{(i)}\\log (h(z(\\theta)^{(i)})) + (1-y^{(i)})\\log (1-h(z(\\theta)^{(i)}))\\tag{5} $$\n",
    "* $m$ is the number of training examples\n",
    "* $y^{(i)}$ is the actual label of training example 'i'.\n",
    "* $h(z^{(i)})$ is the model's prediction for the training example 'i'.\n",
    "\n",
    "The loss function for a single training example is\n",
    "$$ Loss = -1 \\times \\left( y^{(i)}\\log (h(z(\\theta)^{(i)})) + (1-y^{(i)})\\log (1-h(z(\\theta)^{(i)})) \\right)$$\n",
    "\n",
    "* All the $h$ values are between 0 and 1, so the logs will be negative. That is the reason for the factor of -1 applied to the sum of the two loss terms.\n",
    "* Note that when the model predicts 1 ($h(z(\\theta)) = 1$) and the label 'y' is also 1, the loss for that training example is 0. \n",
    "* Similarly, when the model predicts 0 ($h(z(\\theta)) = 0$) and the actual label is also 0, the loss for that training example is 0. \n",
    "* However, when the model prediction is close to 1 ($h(z(\\theta)) = 0.9999$) and the label is 0, the second term of the log loss becomes a large negative number, which is then multiplied by the overall factor of -1 to convert it to a positive loss value. $-1 \\times (1 - 0) \\times log(1 - 0.9999) \\approx 9.2$ The closer the model prediction gets to 1, the larger the loss."
   ]
  },
  {
   "cell_type": "code",
   "execution_count": 13,
   "metadata": {},
   "outputs": [
    {
     "data": {
      "text/plain": [
       "9.210340371976294"
      ]
     },
     "execution_count": 13,
     "metadata": {},
     "output_type": "execute_result"
    }
   ],
   "source": [
    "# verify that when the model predicts close to 1, but the actual label is 0, the loss is a large positive value\n",
    "-1 * (1 - 0) * np.log(1 - 0.9999) # loss is about 9.2"
   ]
  },
  {
   "cell_type": "markdown",
   "metadata": {},
   "source": [
    "* Likewise, if the model predicts close to 0 ($h(z) = 0.0001$) but the actual label is 1, the first term in the loss function becomes a large number: $-1 \\times log(0.0001) \\approx 9.2$.  The closer the prediction is to zero, the larger the loss."
   ]
  },
  {
   "cell_type": "code",
   "execution_count": 14,
   "metadata": {},
   "outputs": [
    {
     "data": {
      "text/plain": [
       "9.210340371976182"
      ]
     },
     "execution_count": 14,
     "metadata": {},
     "output_type": "execute_result"
    }
   ],
   "source": [
    "# verify that when the model predicts close to 0 but the actual label is 1, the loss is a large positive value\n",
    "-1 * np.log(0.0001) # loss is about 9.2"
   ]
  },
  {
   "cell_type": "markdown",
   "metadata": {},
   "source": [
    "#### Update the weights\n",
    "\n",
    "To update your weight vector $\\theta$, you will apply gradient descent to iteratively improve your model's predictions.  \n",
    "The gradient of the cost function $J$ with respect to one of the weights $\\theta_j$ is:\n",
    "\n",
    "$$\\nabla_{\\theta_j}J(\\theta) = \\frac{1}{m} \\sum_{i=1}^m(h^{(i)}-y^{(i)})x^{(i)}_j \\tag{5}$$\n",
    "* 'i' is the index across all 'm' training examples.\n",
    "* 'j' is the index of the weight $\\theta_j$, so $x^{(i)}_j$ is the feature associated with weight $\\theta_j$\n",
    "\n",
    "* To update the weight $\\theta_j$, we adjust it by subtracting a fraction of the gradient determined by $\\alpha$:\n",
    "$$\\theta_j = \\theta_j - \\alpha \\times \\nabla_{\\theta_j}J(\\theta) $$\n",
    "* The learning rate $\\alpha$ is a value that we choose to control how big a single update will be.\n"
   ]
  },
  {
   "cell_type": "markdown",
   "metadata": {},
   "source": [
    "<a name='ex-2'></a>\n",
    "### Exercise 2 - gradientDescent\n",
    "Implement gradient descent function.\n",
    "* The number of iterations 'num_iters\" is the number of times that you'll use the entire training set.\n",
    "* For each iteration, you'll calculate the cost function using all training examples (there are 'm' training examples), and for all features.\n",
    "* Instead of updating a single weight $\\theta_i$ at a time, we can update all the weights in the column vector:  \n",
    "$$\\mathbf{\\theta} = \\begin{pmatrix}\n",
    "\\theta_0\n",
    "\\\\\n",
    "\\theta_1\n",
    "\\\\ \n",
    "\\theta_2 \n",
    "\\\\ \n",
    "\\vdots\n",
    "\\\\ \n",
    "\\theta_n\n",
    "\\end{pmatrix}$$\n",
    "* $\\mathbf{\\theta}$ has dimensions (n+1, 1), where 'n' is the number of features, and there is one more element for the bias term $\\theta_0$ (note that the corresponding feature value $\\mathbf{x_0}$ is 1).\n",
    "* The 'logits', 'z', are calculated by multiplying the feature matrix 'x' with the weight vector 'theta'.  $z = \\mathbf{x}\\mathbf{\\theta}$\n",
    "    * $\\mathbf{x}$ has dimensions (m, n+1) \n",
    "    * $\\mathbf{\\theta}$: has dimensions (n+1, 1)\n",
    "    * $\\mathbf{z}$: has dimensions (m, 1)\n",
    "* The prediction 'h', is calculated by applying the sigmoid to each element in 'z': $h(z) = sigmoid(z)$, and has dimensions (m,1).\n",
    "* The cost function $J$ is calculated by taking the dot product of the vectors 'y' and 'log(h)'.  Since both 'y' and 'h' are column vectors (m,1), transpose the vector to the left, so that matrix multiplication of a row vector with column vector performs the dot product.\n",
    "$$J = \\frac{-1}{m} \\times \\left(\\mathbf{y}^T \\cdot log(\\mathbf{h}) + \\mathbf{(1-y)}^T \\cdot log(\\mathbf{1-h}) \\right)$$\n",
    "* The update of theta is also vectorized.  Because the dimensions of $\\mathbf{x}$ are (m, n+1), and both $\\mathbf{h}$ and $\\mathbf{y}$ are (m, 1), we need to transpose the $\\mathbf{x}$ and place it on the left in order to perform matrix multiplication, which then yields the (n+1, 1) answer we need:\n",
    "$$\\mathbf{\\theta} = \\mathbf{\\theta} - \\frac{\\alpha}{m} \\times \\left( \\mathbf{x}^T \\cdot \\left( \\mathbf{h-y} \\right) \\right)$$"
   ]
  },
  {
   "cell_type": "markdown",
   "metadata": {},
   "source": [
    "<details>    \n",
    "<summary>\n",
    "    <font size=\"3\" color=\"darkgreen\"><b>Hints</b></font>\n",
    "</summary>\n",
    "<p>\n",
    "<ul>\n",
    "    <li>use numpy.dot for matrix multiplication.</li>\n",
    "    <li>To ensure that the fraction -1/m is a decimal value, cast either the numerator or denominator (or both), like `float(1)`, or write `1.` for the float version of 1. </li>\n",
    "</ul>\n",
    "</p>\n",
    "\n"
   ]
  },
  {
   "cell_type": "code",
   "execution_count": 63,
   "metadata": {},
   "outputs": [],
   "source": [
    "# UNQ_C2 (UNIQUE CELL IDENTIFIER, DO NOT EDIT)\n",
    "def gradientDescent(x, y, theta, alpha, num_iters):\n",
    "    '''\n",
    "    Input:\n",
    "        x: matrix of features which is (m,n+1)\n",
    "        y: corresponding labels of the input matrix x, dimensions (m,1)\n",
    "        theta: weight vector of dimension (n+1,1)\n",
    "        alpha: learning rate\n",
    "        num_iters: number of iterations you want to train your model for\n",
    "    Output:\n",
    "        J: the final cost\n",
    "        theta: your final weight vector\n",
    "    Hint: you might want to print the cost to make sure that it is going down.\n",
    "    '''\n",
    "    ### START CODE HERE (REPLACE INSTANCES OF 'None' with your code) ###\n",
    "    # get 'm', the number of rows in matrix x\n",
    "    m = x.shape[0]     \n",
    "    for i in range(0, num_iters):\n",
    "        \n",
    "        # get z, the dot product of x and theta\n",
    "        z = np.dot(x,theta)\n",
    "        \n",
    "        # get the sigmoid of h\n",
    "        h = sigmoid(int(z[0]))\n",
    "        \n",
    "        # calculate the cost function\n",
    "        J = -1./m * (np.dot(y.transpose(), np.log(h)) + np.dot((1-y).transpose(),np.log(1-h)))                                                    \n",
    "\n",
    "        # update the weights theta\n",
    "        theta = theta - (alpha/m) * np.dot(x.transpose(),(h-y))\n",
    "        \n",
    "    ### END CODE HERE ###\n",
    "    J = float(J[0][0])\n",
    "    return J, theta"
   ]
  },
  {
   "cell_type": "code",
   "execution_count": 64,
   "metadata": {},
   "outputs": [
    {
     "name": "stdout",
     "output_type": "stream",
     "text": [
      "The cost after training is 0.06931472.\n",
      "The resulting vector of weights is [6.8e-07, 0.00052381, 0.00039046]\n"
     ]
    }
   ],
   "source": [
    "# Check the function\n",
    "# Construct a synthetic test case using numpy PRNG functions\n",
    "np.random.seed(1)\n",
    "# X input is 10 x 3 with ones for the bias terms\n",
    "tmp_X = np.append(np.ones((10, 1)), np.random.rand(10, 2) * 2000, axis=1)\n",
    "# Y Labels are 10 x 1\n",
    "tmp_Y = (np.random.rand(10, 1) > 0.35).astype(float)\n",
    "\n",
    "# Apply gradient descent\n",
    "tmp_J, tmp_theta = gradientDescent(tmp_X, tmp_Y, np.zeros((3, 1)), 0.00000001, 700)\n",
    "print(f\"The cost after training is {tmp_J:.8f}.\")\n",
    "print(f\"The resulting vector of weights is {[round(t, 8) for t in np.squeeze(tmp_theta)]}\")"
   ]
  },
  {
   "cell_type": "markdown",
   "metadata": {},
   "source": [
    "#### Expected output\n",
    "```\n",
    "The cost after training is 0.67094970.\n",
    "The resulting vector of weights is [4.1e-07, 0.00035658, 7.309e-05]\n",
    "```"
   ]
  },
  {
   "cell_type": "code",
   "execution_count": 65,
   "metadata": {},
   "outputs": [
    {
     "name": "stdout",
     "output_type": "stream",
     "text": [
      "Wrong output for the loss function. Check how you are implementing the matrix multiplications. \n",
      "\tExpected: 0.6709497038162118.\n",
      "\tGot: 0.06931471805599453.\n",
      "Wrong values for weight's matrix theta. Check how you are updating the matrix of weights. \n",
      "\tExpected: [[4.10713435e-07]\n",
      " [3.56584699e-04]\n",
      " [7.30888526e-05]].\n",
      "\tGot: [[6.76894142e-07]\n",
      " [5.23805643e-04]\n",
      " [3.90460002e-04]].\n",
      "Wrong output for the loss function. Check how you are implementing the matrix multiplications. \n",
      "\tExpected: 6.5044107216556135.\n",
      "\tGot: 0.900000000761499.\n",
      "Wrong values for weight's matrix theta. Check how you are updating the matrix of weights. \n",
      "\tExpected: [[ 9.45211976e-05]\n",
      " [ 2.40577958e-02]\n",
      " [-1.77876847e-02]\n",
      " [ 1.35674845e-02]].\n",
      "\tGot: [[-5.22879076e-05]\n",
      " [ 4.76467431e-02]\n",
      " [-1.55084019e-01]\n",
      " [-2.61603419e-02]].\n",
      "\u001b[92m 4  Tests passed\n",
      "\u001b[91m 4  Tests failed\n"
     ]
    }
   ],
   "source": [
    "# Test your function\n",
    "w1_unittest.test_gradientDescent(gradientDescent)"
   ]
  },
  {
   "cell_type": "markdown",
   "metadata": {},
   "source": [
    "<a name='2'></a>\n",
    "## 2 - Extracting the Features\n",
    "\n",
    "* Given a list of tweets, extract the features and store them in a matrix. You will extract two features.\n",
    "    * The first feature is the number of positive words in a tweet.\n",
    "    * The second feature is the number of negative words in a tweet. \n",
    "* Then train your logistic regression classifier on these features.\n",
    "* Test the classifier on a validation set. \n",
    "\n",
    "<a name='ex-3'></a>\n",
    "### Exercise 3 - extract_features\n",
    "Implement the extract_features function. \n",
    "* This function takes in a single tweet.\n",
    "* Process the tweet using the imported `process_tweet` function and save the list of tweet words.\n",
    "* Loop through each word in the list of processed words\n",
    "    * For each word, check the 'freqs' dictionary for the count when that word has a positive '1' label. (Check for the key (word, 1.0)\n",
    "    * Do the same for the count for when the word is associated with the negative label '0'. (Check for the key (word, 0.0).)\n",
    "\n",
    "**Note:** In the implementation instructions provided above, the prediction of being positive or negative depends on feature vector which counts-in duplicate words - this is different from what you have seen in the lecture videos"
   ]
  },
  {
   "cell_type": "markdown",
   "metadata": {},
   "source": [
    "<details>    \n",
    "<summary>\n",
    "    <font size=\"3\" color=\"darkgreen\"><b>Hints</b></font>\n",
    "</summary>\n",
    "<p>\n",
    "<ul>\n",
    "    <li>Make sure you handle cases when the (word, label) key is not found in the dictionary. </li>\n",
    "    <li> Search the web for hints about using the 'get' function of a Python dictionary.  Here is an <a href=\"https://www.programiz.com/python-programming/methods/dictionary/get\" > example </a> </li>\n",
    "</ul>\n",
    "</p>\n"
   ]
  },
  {
   "cell_type": "code",
   "execution_count": 66,
   "metadata": {},
   "outputs": [],
   "source": [
    "# UNQ_C3 GRADED FUNCTION: extract_features\n",
    "def extract_features(tweet, freqs, process_tweet=process_tweet):\n",
    "    '''\n",
    "    Input: \n",
    "        tweet: a string containing one tweet\n",
    "        freqs: a dictionary corresponding to the frequencies of each tuple (word, label)\n",
    "    Output: \n",
    "        x: a feature vector of dimension (1,3)\n",
    "    '''\n",
    "    # process_tweet tokenizes, stems, and removes stopwords\n",
    "    word_l = process_tweet(tweet)\n",
    "    \n",
    "    # 3 elements for [bias, positive, negative] counts\n",
    "    x = np.zeros(3) \n",
    "    \n",
    "    # bias term is set to 1\n",
    "    x[0] = 1 \n",
    "    \n",
    "    ### START CODE HERE ###\n",
    "    \n",
    "    \n",
    "    # loop through each word in the list of words\n",
    "    for word in word_l:\n",
    "        \n",
    "        # increment the word count for the positive label 1\n",
    "        x[1] += freqs.get((word, 1.0), 0)\n",
    "        \n",
    "        # increment the word count for the negative label 0\n",
    "        x[2] += freqs.get((word, 0.0), 0)\n",
    "        \n",
    "    ### END CODE HERE ###\n",
    "    \n",
    "    x = x[None, :]  # adding batch dimension for further processing\n",
    "    assert(x.shape == (1, 3))\n",
    "    return x"
   ]
  },
  {
   "cell_type": "code",
   "execution_count": 67,
   "metadata": {},
   "outputs": [
    {
     "name": "stdout",
     "output_type": "stream",
     "text": [
      "[[1.000e+00 3.133e+03 6.100e+01]]\n"
     ]
    }
   ],
   "source": [
    "# Check your function\n",
    "# test 1\n",
    "# test on training data\n",
    "tmp1 = extract_features(train_x[0], freqs)\n",
    "print(tmp1)"
   ]
  },
  {
   "cell_type": "markdown",
   "metadata": {},
   "source": [
    "#### Expected output\n",
    "```\n",
    "[[1.000e+00 3.133e+03 6.100e+01]]\n",
    "```"
   ]
  },
  {
   "cell_type": "code",
   "execution_count": 68,
   "metadata": {},
   "outputs": [
    {
     "name": "stdout",
     "output_type": "stream",
     "text": [
      "[[1. 0. 0.]]\n"
     ]
    }
   ],
   "source": [
    "# test 2:\n",
    "# check for when the words are not in the freqs dictionary\n",
    "tmp2 = extract_features('blorb bleeeeb bloooob', freqs)\n",
    "print(tmp2)"
   ]
  },
  {
   "cell_type": "markdown",
   "metadata": {},
   "source": [
    "#### Expected output\n",
    "```\n",
    "[[1. 0. 0.]]\n",
    "```"
   ]
  },
  {
   "cell_type": "code",
   "execution_count": 69,
   "metadata": {},
   "outputs": [
    {
     "name": "stdout",
     "output_type": "stream",
     "text": [
      "\u001b[92m All tests passed\n"
     ]
    }
   ],
   "source": [
    "# Test your function\n",
    "w1_unittest.test_extract_features(extract_features, freqs)"
   ]
  },
  {
   "cell_type": "markdown",
   "metadata": {},
   "source": [
    "<a name='3'></a>\n",
    "## 3 - Training Your Model\n",
    "\n",
    "To train the model:\n",
    "* Stack the features for all training examples into a matrix X. \n",
    "* Call `gradientDescent`, which you've implemented above.\n",
    "\n",
    "This section is given to you.  Please read it for understanding and run the cell."
   ]
  },
  {
   "cell_type": "code",
   "execution_count": 70,
   "metadata": {},
   "outputs": [
    {
     "name": "stdout",
     "output_type": "stream",
     "text": [
      "The cost after training is 0.00003916.\n",
      "The resulting vector of weights is [-2.2e-07, 0.00059929, -0.0017416]\n"
     ]
    }
   ],
   "source": [
    "# collect the features 'x' and stack them into a matrix 'X'\n",
    "X = np.zeros((len(train_x), 3))\n",
    "for i in range(len(train_x)):\n",
    "    X[i, :]= extract_features(train_x[i], freqs)\n",
    "\n",
    "# training labels corresponding to X\n",
    "Y = train_y\n",
    "\n",
    "# Apply gradient descent\n",
    "J, theta = gradientDescent(X, Y, np.zeros((3, 1)), 1e-9, 1500)\n",
    "print(f\"The cost after training is {J:.8f}.\")\n",
    "print(f\"The resulting vector of weights is {[round(t, 8) for t in np.squeeze(theta)]}\")"
   ]
  },
  {
   "cell_type": "markdown",
   "metadata": {},
   "source": [
    "**Expected Output**: \n",
    "\n",
    "```\n",
    "The cost after training is 0.22522315.\n",
    "The resulting vector of weights is [6e-08, 0.00053818, -0.0005583]\n",
    "```"
   ]
  },
  {
   "cell_type": "markdown",
   "metadata": {},
   "source": [
    "<a name='4'></a>\n",
    "## 4 -  Test your Logistic Regression\n",
    "\n",
    "It is time for you to test your logistic regression function on some new input that your model has not seen before. \n",
    "<a name='ex-4'></a>\n",
    "### Exercise 4 - predict_tweet\n",
    "Implement `predict_tweet`.\n",
    "Predict whether a tweet is positive or negative.\n",
    "\n",
    "* Given a tweet, process it, then extract the features.\n",
    "* Apply the model's learned weights on the features to get the logits.\n",
    "* Apply the sigmoid to the logits to get the prediction (a value between 0 and 1).\n",
    "\n",
    "$$y_{pred} = sigmoid(\\mathbf{x} \\cdot \\theta)$$"
   ]
  },
  {
   "cell_type": "code",
   "execution_count": 81,
   "metadata": {},
   "outputs": [],
   "source": [
    "# UNQ_C4 GRADED FUNCTION: predict_tweet\n",
    "def predict_tweet(tweet, freqs, theta):\n",
    "    '''\n",
    "    Input: \n",
    "        tweet: a string\n",
    "        freqs: a dictionary corresponding to the frequencies of each tuple (word, label)\n",
    "        theta: (3,1) vector of weights\n",
    "    Output: \n",
    "        y_pred: the probability of a tweet being positive or negative\n",
    "    '''\n",
    "    ### START CODE HERE ###\n",
    "    \n",
    "    # extract the features of the tweet and store it into x\n",
    "    x = extract_features(tweet, freqs)\n",
    "    \n",
    "    # make the prediction using x and theta\n",
    "    y_pred = sigmoid(np.dot(x, theta))\n",
    "    \n",
    "    ### END CODE HERE ###\n",
    "    \n",
    "    return y_pred"
   ]
  },
  {
   "cell_type": "code",
   "execution_count": 82,
   "metadata": {},
   "outputs": [
    {
     "name": "stdout",
     "output_type": "stream",
     "text": [
      "I am happy -> 0.516428\n",
      "I am bad -> 0.478599\n",
      "this movie should have been great. -> 0.508839\n",
      "great -> 0.513691\n",
      "great great -> 0.527363\n",
      "great great great -> 0.540993\n",
      "great great great great -> 0.554562\n"
     ]
    }
   ],
   "source": [
    "# Run this cell to test your function\n",
    "for tweet in ['I am happy', 'I am bad', 'this movie should have been great.', 'great', 'great great', 'great great great', 'great great great great']:\n",
    "    print( '%s -> %f' % (tweet, predict_tweet(tweet, freqs, theta)))    \n",
    "    "
   ]
  },
  {
   "cell_type": "markdown",
   "metadata": {},
   "source": [
    "**Expected Output**: \n",
    "```\n",
    "I am happy -> 0.519275\n",
    "I am bad -> 0.494347\n",
    "this movie should have been great. -> 0.515979\n",
    "great -> 0.516065\n",
    "great great -> 0.532096\n",
    "great great great -> 0.548062\n",
    "great great great great -> 0.563929\n",
    "```"
   ]
  },
  {
   "cell_type": "code",
   "execution_count": 83,
   "metadata": {},
   "outputs": [
    {
     "data": {
      "text/plain": [
       "0.8543059140057648"
      ]
     },
     "execution_count": 83,
     "metadata": {},
     "output_type": "execute_result"
    }
   ],
   "source": [
    "# Feel free to check the sentiment of your own tweet below\n",
    "my_tweet = 'I am learning :)'\n",
    "predict_tweet(my_tweet, freqs, theta)"
   ]
  },
  {
   "cell_type": "code",
   "execution_count": 84,
   "metadata": {},
   "outputs": [
    {
     "ename": "AttributeError",
     "evalue": "'float' object has no attribute 'shape'",
     "output_type": "error",
     "traceback": [
      "\u001b[0;31m---------------------------------------------------------------------------\u001b[0m",
      "\u001b[0;31mAttributeError\u001b[0m                            Traceback (most recent call last)",
      "\u001b[0;32m~/work/w1_unittest.py\u001b[0m in \u001b[0;36mtest_predict_tweet\u001b[0;34m(target, freqs, theta)\u001b[0m\n\u001b[1;32m    384\u001b[0m         \u001b[0;32mtry\u001b[0m\u001b[0;34m:\u001b[0m\u001b[0;34m\u001b[0m\u001b[0;34m\u001b[0m\u001b[0m\n\u001b[0;32m--> 385\u001b[0;31m             \u001b[0;32massert\u001b[0m \u001b[0mresult\u001b[0m\u001b[0;34m.\u001b[0m\u001b[0mshape\u001b[0m \u001b[0;34m==\u001b[0m \u001b[0mtest_case\u001b[0m\u001b[0;34m[\u001b[0m\u001b[0;34m\"expected\"\u001b[0m\u001b[0;34m]\u001b[0m\u001b[0;34m.\u001b[0m\u001b[0mshape\u001b[0m\u001b[0;34m\u001b[0m\u001b[0;34m\u001b[0m\u001b[0m\n\u001b[0m\u001b[1;32m    386\u001b[0m             \u001b[0msuccessful_cases\u001b[0m \u001b[0;34m+=\u001b[0m \u001b[0;36m1\u001b[0m\u001b[0;34m\u001b[0m\u001b[0;34m\u001b[0m\u001b[0m\n",
      "\u001b[0;31mAttributeError\u001b[0m: 'float' object has no attribute 'shape'",
      "\nDuring handling of the above exception, another exception occurred:\n",
      "\u001b[0;31mAttributeError\u001b[0m                            Traceback (most recent call last)",
      "\u001b[0;32m<ipython-input-84-f5b989a9d4a0>\u001b[0m in \u001b[0;36m<module>\u001b[0;34m\u001b[0m\n\u001b[1;32m      1\u001b[0m \u001b[0;31m# Test your function\u001b[0m\u001b[0;34m\u001b[0m\u001b[0;34m\u001b[0m\u001b[0;34m\u001b[0m\u001b[0m\n\u001b[0;32m----> 2\u001b[0;31m \u001b[0mw1_unittest\u001b[0m\u001b[0;34m.\u001b[0m\u001b[0mtest_predict_tweet\u001b[0m\u001b[0;34m(\u001b[0m\u001b[0mpredict_tweet\u001b[0m\u001b[0;34m,\u001b[0m \u001b[0mfreqs\u001b[0m\u001b[0;34m,\u001b[0m \u001b[0mtheta\u001b[0m\u001b[0;34m)\u001b[0m\u001b[0;34m\u001b[0m\u001b[0;34m\u001b[0m\u001b[0m\n\u001b[0m",
      "\u001b[0;32m~/work/w1_unittest.py\u001b[0m in \u001b[0;36mtest_predict_tweet\u001b[0;34m(target, freqs, theta)\u001b[0m\n\u001b[1;32m    390\u001b[0m                     \u001b[0;34m\"name\"\u001b[0m\u001b[0;34m:\u001b[0m \u001b[0mtest_case\u001b[0m\u001b[0;34m[\u001b[0m\u001b[0;34m\"name\"\u001b[0m\u001b[0;34m]\u001b[0m\u001b[0;34m,\u001b[0m\u001b[0;34m\u001b[0m\u001b[0;34m\u001b[0m\u001b[0m\n\u001b[1;32m    391\u001b[0m                     \u001b[0;34m\"expected\"\u001b[0m\u001b[0;34m:\u001b[0m \u001b[0mtest_case\u001b[0m\u001b[0;34m[\u001b[0m\u001b[0;34m\"expected\"\u001b[0m\u001b[0;34m]\u001b[0m\u001b[0;34m.\u001b[0m\u001b[0mshape\u001b[0m\u001b[0;34m,\u001b[0m\u001b[0;34m\u001b[0m\u001b[0;34m\u001b[0m\u001b[0m\n\u001b[0;32m--> 392\u001b[0;31m                     \u001b[0;34m\"got\"\u001b[0m\u001b[0;34m:\u001b[0m \u001b[0mresult\u001b[0m\u001b[0;34m.\u001b[0m\u001b[0mshape\u001b[0m\u001b[0;34m,\u001b[0m\u001b[0;34m\u001b[0m\u001b[0;34m\u001b[0m\u001b[0m\n\u001b[0m\u001b[1;32m    393\u001b[0m                 }\n\u001b[1;32m    394\u001b[0m             )\n",
      "\u001b[0;31mAttributeError\u001b[0m: 'float' object has no attribute 'shape'"
     ]
    }
   ],
   "source": [
    "# Test your function\n",
    "w1_unittest.test_predict_tweet(predict_tweet, freqs, theta)"
   ]
  },
  {
   "cell_type": "markdown",
   "metadata": {},
   "source": [
    "<a name='4-1'></a>\n",
    "### 4.1 -  Check the Performance using the Test Set\n",
    "After training your model using the training set above, check how your model might perform on real, unseen data, by testing it against the test set.\n",
    "\n",
    "<a name='ex-5'></a>\n",
    "### Exercise 5 - test_logistic_regression\n",
    "Implement `test_logistic_regression`. \n",
    "* Given the test data and the weights of your trained model, calculate the accuracy of your logistic regression model. \n",
    "* Use your 'predict_tweet' function to make predictions on each tweet in the test set.\n",
    "* If the prediction is > 0.5, set the model's classification 'y_hat' to 1, otherwise set the model's classification 'y_hat' to 0.\n",
    "* A prediction is accurate when the y_hat equals the test_y.  Sum up all the instances when they are equal and divide by m.\n"
   ]
  },
  {
   "cell_type": "markdown",
   "metadata": {},
   "source": [
    "<details>    \n",
    "<summary>\n",
    "    <font size=\"3\" color=\"darkgreen\"><b>Hints</b></font>\n",
    "</summary>\n",
    "<p>\n",
    "<ul>\n",
    "    <li>Use np.asarray() to convert a list to a numpy array</li>\n",
    "    <li>Use numpy.squeeze() to make an (m,1) dimensional array into an (m,) array </li>\n",
    "</ul>\n",
    "</p>"
   ]
  },
  {
   "cell_type": "code",
   "execution_count": 75,
   "metadata": {},
   "outputs": [],
   "source": [
    "# UNQ_C5 GRADED FUNCTION: test_logistic_regression\n",
    "def test_logistic_regression(test_x, test_y, freqs, theta, predict_tweet=predict_tweet):\n",
    "    \"\"\"\n",
    "    Input: \n",
    "        test_x: a list of tweets\n",
    "        test_y: (m, 1) vector with the corresponding labels for the list of tweets\n",
    "        freqs: a dictionary with the frequency of each pair (or tuple)\n",
    "        theta: weight vector of dimension (3, 1)\n",
    "    Output: \n",
    "        accuracy: (# of tweets classified correctly) / (total # of tweets)\n",
    "    \"\"\"\n",
    "    \n",
    "    ### START CODE HERE ###\n",
    "    \n",
    "    # the list for storing predictions\n",
    "    y_hat = []\n",
    "    \n",
    "    for tweet in test_x:\n",
    "        # get the label prediction for the tweet\n",
    "        y_pred = predict_tweet(tweet,freqs,theta)\n",
    "        \n",
    "        if y_pred > 0.5:\n",
    "            # append 1.0 to the list\n",
    "            y_hat.append(1.0)\n",
    "        else:\n",
    "            # append 0 to the list\n",
    "            y_hat.append(0.0)\n",
    "\n",
    "    # With the above implementation, y_hat is a list, but test_y is (m,1) array\n",
    "    # convert both to one-dimensional arrays in order to compare them using the '==' operator\n",
    "    accuracy = (np.asarray(y_hat) == np.squeeze(test_y)).sum() / len(y_hat)\n",
    "\n",
    "    ### END CODE HERE ###\n",
    "    \n",
    "    return accuracy"
   ]
  },
  {
   "cell_type": "code",
   "execution_count": 76,
   "metadata": {},
   "outputs": [
    {
     "name": "stdout",
     "output_type": "stream",
     "text": [
      "Logistic regression model's accuracy = 0.9480\n"
     ]
    }
   ],
   "source": [
    "tmp_accuracy = test_logistic_regression(test_x, test_y, freqs, theta)\n",
    "print(f\"Logistic regression model's accuracy = {tmp_accuracy:.4f}\")"
   ]
  },
  {
   "cell_type": "markdown",
   "metadata": {},
   "source": [
    "#### Expected Output: \n",
    "```0.9950```  \n",
    "Pretty good!"
   ]
  },
  {
   "cell_type": "code",
   "execution_count": 77,
   "metadata": {},
   "outputs": [
    {
     "name": "stdout",
     "output_type": "stream",
     "text": [
      "\u001b[92m All tests passed\n"
     ]
    }
   ],
   "source": [
    "# Test your function\n",
    "w1_unittest.unittest_test_logistic_regression(test_logistic_regression, freqs, theta)"
   ]
  },
  {
   "cell_type": "markdown",
   "metadata": {},
   "source": [
    "<a name='5'></a>\n",
    "## 5 -  Error Analysis\n",
    "\n",
    "In this part you will see some tweets that your model misclassified. Why do you think the misclassifications happened? Specifically what kind of tweets does your model misclassify?"
   ]
  },
  {
   "cell_type": "code",
   "execution_count": 78,
   "metadata": {},
   "outputs": [
    {
     "name": "stdout",
     "output_type": "stream",
     "text": [
      "Label Predicted Tweet\n",
      "THE TWEET IS: @FindBenNeedham it's my birthday today so for my birthday wish I hope there's good news about Ben soon :-)\n",
      "THE PROCESSED TWEET IS: ['birthday', 'today', 'birthday', 'wish', 'hope', \"there'\", 'good', 'news', 'ben', 'soon', ':-)']\n",
      "1\t0.48389425\tb\"birthday today birthday wish hope there' good news ben soon :-)\"\n",
      "THE TWEET IS: Good morning all :-)\n",
      "\n",
      "It's Friday!!!!!! 󾰀\n",
      "\n",
      "What are your plans for the day? I am currently playing shops with my... http://t.co/qoKquDWcb5\n",
      "THE PROCESSED TWEET IS: ['good', 'morn', ':-)', 'friday', '\\U000fec00', 'plan', 'day', 'current', 'play', 'shop', '...']\n",
      "1\t0.45714611\tb'good morn :-) friday  plan day current play shop ...'\n",
      "THE TWEET IS: @Gurmeetramrahim #OurDaughtersOurPride dhan dhan satguru tera hi aasra...many congratulations Pita G...Keep them blessed as always :-)\n",
      "THE PROCESSED TWEET IS: ['ourdaughtersourprid', 'dhan', 'dhan', 'satguru', 'tera', 'hi', 'aasra', '...', 'mani', 'congratul', 'pita', 'g', '...', 'keep', 'bless', 'alway', ':-)']\n",
      "1\t0.39182380\tb'ourdaughtersourprid dhan dhan satguru tera hi aasra ... mani congratul pita g ... keep bless alway :-)'\n",
      "THE TWEET IS: @SCOOTERBLUE1962 Thanks yes let's hope so, at work so missing it!!:-)\n",
      "THE PROCESSED TWEET IS: ['thank', 'ye', \"let'\", 'hope', 'work', 'miss', ':-)']\n",
      "1\t0.45922407\tb\"thank ye let' hope work miss :-)\"\n",
      "THE TWEET IS: @jaredNOTsubway @iluvmariah @Bravotv Then that truly is a LATERAL move! Now, we all know the Queen Bee is UPWARD BOUND : ) #MovingOnUp\n",
      "THE PROCESSED TWEET IS: ['truli', 'later', 'move', 'know', 'queen', 'bee', 'upward', 'bound', 'movingonup']\n",
      "1\t0.46233780\tb'truli later move know queen bee upward bound movingonup'\n",
      "THE TWEET IS: @MarkBreech Not sure it would be good thing 4 my bottom daring 2 say 2 Miss B but Im gonna be so stubborn on mouth soaping ! #NotHavingit :p\n",
      "THE PROCESSED TWEET IS: ['sure', 'would', 'good', 'thing', '4', 'bottom', 'dare', '2', 'say', '2', 'miss', 'b', 'im', 'gonna', 'stubborn', 'mouth', 'soap', 'nothavingit', ':p']\n",
      "1\t0.29366019\tb'sure would good thing 4 bottom dare 2 say 2 miss b im gonna stubborn mouth soap nothavingit :p'\n",
      "THE TWEET IS: @thewhitespike I like them, especially the Klee ones :-)\n",
      "THE PROCESSED TWEET IS: ['like', 'especi', 'klee', 'one', ':-)']\n",
      "1\t0.49346102\tb'like especi klee one :-)'\n",
      "THE TWEET IS: @Catargiu Yeah, kinda feel like a warm butter in here :D\n",
      "THE PROCESSED TWEET IS: ['yeah', 'kinda', 'feel', 'like', 'warm', 'butter', ':D']\n",
      "1\t0.46125769\tb'yeah kinda feel like warm butter :D'\n",
      "THE TWEET IS: @Svg_Brad Congrads !!! Better update your About page on the accomplishment !!! :-) Keep it up...\n",
      "THE PROCESSED TWEET IS: ['congrad', 'better', 'updat', 'page', 'accomplish', ':-)', 'keep', '...']\n",
      "1\t0.47821711\tb'congrad better updat page accomplish :-) keep ...'\n",
      "THE TWEET IS: whenever my sister sees me crying she texts me to ask if im okay aw someone cares :-)\n",
      "THE PROCESSED TWEET IS: ['whenev', 'sister', 'see', 'cri', 'text', 'ask', 'im', 'okay', 'aw', 'someon', 'care', ':-)']\n",
      "1\t0.45574405\tb'whenev sister see cri text ask im okay aw someon care :-)'\n",
      "THE TWEET IS: @SisiphoMphoza Can't wait to see you there :-)\n",
      "THE PROCESSED TWEET IS: [\"can't\", 'wait', 'see', ':-)']\n",
      "1\t0.49371353\tb\"can't wait see :-)\"\n",
      "THE TWEET IS: @AndyHerren I know how dumb, did she think of that on her own. But Johnny does rock have u seen his utube video's?  Mad Respect! :D\n",
      "THE PROCESSED TWEET IS: ['know', 'dumb', 'think', 'johnni', 'rock', 'u', 'seen', 'utub', \"video'\", 'mad', 'respect', ':D']\n",
      "1\t0.48402369\tb\"know dumb think johnni rock u seen utub video' mad respect :D\"\n",
      "THE TWEET IS: @babypuffinator i've typed worse things, it's all good :p\n",
      "THE PROCESSED TWEET IS: [\"i'v\", 'type', 'wors', 'thing', 'good', ':p']\n",
      "1\t0.46912842\tb\"i'v type wors thing good :p\"\n",
      "THE TWEET IS: I'm playing Brain Dots : ) #BrainDots\n",
      "http://t.co/UGQzOx0huu\n",
      "THE PROCESSED TWEET IS: [\"i'm\", 'play', 'brain', 'dot', 'braindot']\n",
      "1\t0.39735472\tb\"i'm play brain dot braindot\"\n",
      "THE TWEET IS: I'm playing Brain Dots : ) #BrainDots http://t.co/aOKldo3GMj http://t.co/xWCM9qyRG5\n",
      "THE PROCESSED TWEET IS: [\"i'm\", 'play', 'brain', 'dot', 'braindot']\n",
      "1\t0.39735472\tb\"i'm play brain dot braindot\"\n",
      "THE TWEET IS: Every year in August I get fever :p dunno why 😷\n",
      "THE PROCESSED TWEET IS: ['everi', 'year', 'august', 'get', 'fever', ':p', 'dunno', '😷']\n",
      "1\t0.44518049\tb'everi year august get fever :p dunno '\n",
      "THE TWEET IS: @Clareyh Yeah, it's a classy look :-). I've seen people attached to all sorts of 'life saving' equipment, some in beds,having their fix :-0)\n",
      "THE PROCESSED TWEET IS: ['yeah', 'classi', 'look', ':-)', \"i'v\", 'seen', 'peopl', 'attach', 'sort', 'life', 'save', 'equip', 'bed', 'fix', '0']\n",
      "1\t0.49054973\tb\"yeah classi look :-) i'v seen peopl attach sort life save equip bed fix 0\"\n",
      "THE TWEET IS: h_eartshapedbox: First leg of the magictrikband tour is going well! :D #music #band #rock #magictrik #tour … http://t.co/3SdqjnwDfM\n",
      "THE PROCESSED TWEET IS: ['h_eartshapedbox', 'first', 'leg', 'magictrikband', 'tour', 'go', 'well', ':D', 'music', 'band', 'rock', 'magictrik', 'tour', '…']\n",
      "1\t0.49062920\tb'h_eartshapedbox first leg magictrikband tour go well :D music band rock magictrik tour '\n",
      "THE TWEET IS: @JewelStaite Funny, but yes too soon. It's always going to be too soon. :D\n",
      "THE PROCESSED TWEET IS: ['funni', 'ye', 'soon', 'alway', 'go', 'soon', ':D']\n",
      "1\t0.47264505\tb'funni ye soon alway go soon :D'\n",
      "THE TWEET IS: @storpey don't die, you're actually pretty entertaining :p\n",
      "THE PROCESSED TWEET IS: ['die', 'actual', 'pretti', 'entertain', ':p']\n",
      "1\t0.49994006\tb'die actual pretti entertain :p'\n",
      "THE TWEET IS: Morning all...Judith here to answer any District Council related questions today :-)\n",
      "THE PROCESSED TWEET IS: ['morn', '...', 'judith', 'answer', 'district', 'council', 'relat', 'question', 'today', ':-)']\n",
      "1\t0.46610213\tb'morn ... judith answer district council relat question today :-)'\n",
      "THE TWEET IS: A new report talks about how we burn more calories in the cold, because we work harder to warm up. Feel any better about the weather? :p\n",
      "THE PROCESSED TWEET IS: ['new', 'report', 'talk', 'burn', 'calori', 'cold', 'work', 'harder', 'warm', 'feel', 'better', 'weather', ':p']\n",
      "1\t0.39325136\tb'new report talk burn calori cold work harder warm feel better weather :p'\n",
      "THE TWEET IS: @ShutUpBrickLP if only there was uhc in a box on a large scale on one of those network servers :p\n",
      "THE PROCESSED TWEET IS: ['uhc', 'box', 'larg', 'scale', 'one', 'network', 'server', ':p']\n",
      "1\t0.47325213\tb'uhc box larg scale one network server :p'\n",
      "THE TWEET IS: @llredraven @LinnySmit @erincheshirecat @phycoinsc @paigejiffy @lilginger864 @BlueCat_hikes   Good night! Sweet dreams!  : )  xxoo  ♡♥♡\n",
      "THE PROCESSED TWEET IS: ['good', 'night', 'sweet', 'dream', 'xxoo', '♡', '♥', '♡']\n",
      "1\t0.47161462\tb'good night sweet dream xxoo   '\n",
      "THE TWEET IS: hah....and a thousand more lies  :D https://t.co/QEil0C0auo\n",
      "THE PROCESSED TWEET IS: ['hah', '...', 'thousand', 'lie', ':D']\n",
      "1\t0.48757305\tb'hah ... thousand lie :D'\n",
      "THE TWEET IS: In #Fallout4 we get to see the Glowing Sea. Again. \n",
      "\n",
      "Technically did in Fallout 3. I just played again to see :D http://t.co/zRP17qI0qT\n",
      "THE PROCESSED TWEET IS: ['fallout', '4', 'get', 'see', 'glow', 'sea', 'technic', 'fallout', '3', 'play', 'see', ':D']\n",
      "1\t0.45503495\tb'fallout 4 get see glow sea technic fallout 3 play see :D'\n",
      "THE TWEET IS: @pmjeepers I'm a friend of your cousin Karen Gunderson. Just watched Europa Report -- thoroughly impressed! Wanted to say, great script!:-)\n",
      "THE PROCESSED TWEET IS: [\"i'm\", 'friend', 'cousin', 'karen', 'gunderson', 'watch', 'europa', 'report', 'thoroughli', 'impress', 'want', 'say', 'great', 'script', ':-)']\n",
      "1\t0.39118387\tb\"i'm friend cousin karen gunderson watch europa report thoroughli impress want say great script :-)\"\n",
      "THE TWEET IS: @LusciousLyndee1 hahaha...and thus...I sneak away to log on to #niteflirt :D\n",
      "THE PROCESSED TWEET IS: ['hahaha', '...', 'thu', '...', 'sneak', 'away', 'log', 'niteflirt', ':D']\n",
      "1\t0.39000251\tb'hahaha ... thu ... sneak away log niteflirt :D'\n",
      "THE TWEET IS: @dukeofdelhi yes please would brighten up my night shift #nomnomnom :D #chocolate #DukeFreebieFriday to  xx\n",
      "THE PROCESSED TWEET IS: ['ye', 'pleas', 'would', 'brighten', 'night', 'shift', 'nomnomnom', ':D', 'chocol', 'dukefreebiefriday', 'xx']\n",
      "1\t0.45295815\tb'ye pleas would brighten night shift nomnomnom :D chocol dukefreebiefriday xx'\n",
      "THE TWEET IS: @SpazzyTsukihara lol ok i can watch ya for a bit :p\n",
      "THE PROCESSED TWEET IS: ['lol', 'ok', 'watch', 'ya', 'bit', ':p']\n",
      "1\t0.47795568\tb'lol ok watch ya bit :p'\n",
      "THE TWEET IS: @grafikmag @editionsdulivre I a kid inside!!! I want one!! :-)\n",
      "THE PROCESSED TWEET IS: ['kid', 'insid', 'want', 'one', ':-)']\n",
      "1\t0.46735437\tb'kid insid want one :-)'\n",
      "THE TWEET IS: @ShortgamerUHC I get 25ish then more if I snowball :p\n",
      "THE PROCESSED TWEET IS: ['get', '25ish', 'snowbal', ':p']\n",
      "1\t0.46128669\tb'get 25ish snowbal :p'\n",
      "THE TWEET IS: nd its going to expire next year. dat is mtn 6gb for u :D , You really like it?\n",
      "THE PROCESSED TWEET IS: ['nd', 'go', 'expir', 'next', 'year', 'dat', 'mtn', '6gb', 'u', ':D', 'realli', 'like']\n",
      "1\t0.37607320\tb'nd go expir next year dat mtn 6gb u :D realli like'\n",
      "THE TWEET IS: I wanna go back to the time were everything is still fine. :-)\n",
      "THE PROCESSED TWEET IS: ['wanna', 'go', 'back', 'time', 'everyth', 'still', 'fine', ':-)']\n",
      "1\t0.38759489\tb'wanna go back time everyth still fine :-)'\n",
      "THE TWEET IS: @Memz_Dogi i'm joining right now :D\n",
      "THE PROCESSED TWEET IS: [\"i'm\", 'join', 'right', ':D']\n",
      "1\t0.47278890\tb\"i'm join right :D\"\n",
      "THE TWEET IS: @melaniemorris Hi Melanie :-) We do in fact, they're really used in cases where normal WiFi could be an issue as you mentioned. You can ....\n",
      "THE PROCESSED TWEET IS: ['hi', 'melani', ':-)', 'fact', \"they'r\", 'realli', 'use', 'case', 'normal', 'wifi', 'could', 'issu', 'mention', '...']\n",
      "1\t0.42990929\tb\"hi melani :-) fact they'r realli use case normal wifi could issu mention ...\"\n",
      "THE TWEET IS: I slept less that 7 hours last night, preparing myself for possible naps :p\n",
      "THE PROCESSED TWEET IS: ['slept', 'less', '7', 'hour', 'last', 'night', 'prepar', 'possibl', 'nap', ':p']\n",
      "1\t0.47648864\tb'slept less 7 hour last night prepar possibl nap :p'\n",
      "THE TWEET IS: @ochoaofficiaI idk :p she follows me😎💁🏻\n",
      "THE PROCESSED TWEET IS: ['idk', ':p', 'follow', '😎', '💁', '🏻']\n",
      "1\t0.45726540\tb'idk :p follow   '\n",
      "THE TWEET IS: I feel like having a relapse :-)\n",
      "THE PROCESSED TWEET IS: ['feel', 'like', 'relaps', ':-)']\n",
      "1\t0.47939396\tb'feel like relaps :-)'\n",
      "THE TWEET IS: Girl : nice wallet.\n",
      "Boy : Prada hai..\n",
      "Girl: you're so rich then..\n",
      "Boy: stupid, I mean bhai ka hai. :p\n",
      "#prada #PunjabisWillGetIt\n",
      "THE PROCESSED TWEET IS: ['girl', 'nice', 'wallet', 'boy', 'prada', 'hai', '..', 'girl', 'rich', '..', 'boy', 'stupid', 'mean', 'bhai', 'ka', 'hai', ':p', 'prada', 'punjabiswillgetit']\n",
      "1\t0.43785361\tb'girl nice wallet boy prada hai .. girl rich .. boy stupid mean bhai ka hai :p prada punjabiswillgetit'\n",
      "THE TWEET IS: Only my bad would remind me to exercise at 1:12 in the am :-). \n",
      " I miss her. She needs to come back. Now.\n",
      "THE PROCESSED TWEET IS: ['bad', 'would', 'remind', 'exercis', '1:12', ':-)', 'miss', 'need', 'come', 'back']\n",
      "1\t0.37576840\tb'bad would remind exercis 1:12 :-) miss need come back'\n",
      "THE TWEET IS: @Junaidogic kyunke Aitchison hai :p look at the responses to my original tweet, you'll know why my brother does this\n",
      "THE PROCESSED TWEET IS: ['kyunk', 'aitchison', 'hai', ':p', 'look', 'respons', 'origin', 'tweet', 'know', 'brother']\n",
      "1\t0.45663290\tb'kyunk aitchison hai :p look respons origin tweet know brother'\n",
      "THE TWEET IS: @Bixbersboca good morning to you :D lol its really fuckin dark and it's gonna rain so hard in a couple of minutes\n",
      "THE PROCESSED TWEET IS: ['good', 'morn', ':D', 'lol', 'realli', 'fuckin', 'dark', 'gonna', 'rain', 'hard', 'coupl', 'minut']\n",
      "1\t0.48357959\tb'good morn :D lol realli fuckin dark gonna rain hard coupl minut'\n",
      "THE TWEET IS: i'm in amsterdam guys wooo :D\n",
      "THE PROCESSED TWEET IS: [\"i'm\", 'amsterdam', 'guy', 'wooo', ':D']\n",
      "1\t0.47086142\tb\"i'm amsterdam guy wooo :D\"\n",
      "THE TWEET IS: You always be part of me, I am part of you and defenitely...♬ @MOHDBINTANG :p\n",
      "THE PROCESSED TWEET IS: ['alway', 'part', 'part', 'defenit', '...', '♬', ':p']\n",
      "1\t0.40917139\tb'alway part part defenit ...  :p'\n",
      "THE TWEET IS: @zaynmalik Zayn please follow me, would mean the world! It's my birthday :D I love you so much, your amazing&lt;3\n",
      "THE PROCESSED TWEET IS: ['zayn', 'pleas', 'follow', 'would', 'mean', 'world', 'birthday', ':D', 'love', 'much', 'amaz', '<3']\n",
      "1\t0.37128629\tb'zayn pleas follow would mean world birthday :D love much amaz <3'\n",
      "THE TWEET IS: @PoemPorns hah....and a thousand more lies  :D\n",
      "THE PROCESSED TWEET IS: ['hah', '...', 'thousand', 'lie', ':D']\n",
      "1\t0.48757305\tb'hah ... thousand lie :D'\n",
      "THE TWEET IS: @flurishing @blxcknicotine wow,looking good isabella! Makes me wanna start working out back :D\n",
      "THE PROCESSED TWEET IS: ['wow', 'look', 'good', 'isabella', 'make', 'wanna', 'start', 'work', 'back', ':D']\n",
      "1\t0.43481395\tb'wow look good isabella make wanna start work back :D'\n",
      "THE TWEET IS: going to my room now bc i have 3% :-)\n",
      "THE PROCESSED TWEET IS: ['go', 'room', 'bc', '3', ':-)']\n",
      "1\t0.49376914\tb'go room bc 3 :-)'\n",
      "THE TWEET IS: @KristyArnett Your thinking to hard in bed! :p\n",
      "THE PROCESSED TWEET IS: ['think', 'hard', 'bed', ':p']\n",
      "1\t0.48094641\tb'think hard bed :p'\n",
      "THE TWEET IS: @CG_Rated did u mean to hide the fots? :p\n",
      "THE PROCESSED TWEET IS: ['u', 'mean', 'hide', 'fot', ':p']\n",
      "1\t0.46531495\tb'u mean hide fot :p'\n",
      "THE TWEET IS: I'm playing Brain Dots : ) #BrainDots http://t.co/R2JBO8iNww http://t.co/ow5BBwdEMY\n",
      "THE PROCESSED TWEET IS: [\"i'm\", 'play', 'brain', 'dot', 'braindot']\n",
      "1\t0.39735472\tb\"i'm play brain dot braindot\"\n",
      "THE TWEET IS: @KimKardashian @KendallJenner @KylieJenner @khloekardashian @kourtneykardash Cool..... congrats Kylie!!  U all look so nice    :-)\n",
      "THE PROCESSED TWEET IS: ['cool', '...', 'congrat', 'kyli', 'u', 'look', 'nice', ':-)']\n",
      "1\t0.44723646\tb'cool ... congrat kyli u look nice :-)'\n",
      "THE TWEET IS: @CathsStrawberry I thought your work was  seasonal, you will have really busy days. Ok so deal for weekends and in your toilet breaks :p\n",
      "THE PROCESSED TWEET IS: ['thought', 'work', 'season', 'realli', 'busi', 'day', 'ok', 'deal', 'weekend', 'toilet', 'break', ':p']\n",
      "1\t0.39975885\tb'thought work season realli busi day ok deal weekend toilet break :p'\n",
      "THE TWEET IS: @justinbieber YOU ARE DADDY AF... :-)\n",
      "THE PROCESSED TWEET IS: ['daddi', 'af', '...', ':-)']\n",
      "1\t0.48946838\tb'daddi af ... :-)'\n",
      "THE TWEET IS: @OdellSchwarzeJG How?Easy.Get up at 5:30 am, go to work, come home bout 6, take care of home and family therein. That's how. You'll see. :-)\n",
      "THE PROCESSED TWEET IS: ['easy.get', '5:30', 'go', 'work', 'come', 'home', 'bout', '6', 'take', 'care', 'home', 'famili', 'therein', \"that'\", 'see', ':-)']\n",
      "1\t0.37718099\tb\"easy.get 5:30 go work come home bout 6 take care home famili therein that' see :-)\"\n",
      "THE TWEET IS: @bridgetminamore I voted for #brainchild 3 times, please may I have a poem? :D\n",
      "THE PROCESSED TWEET IS: ['vote', 'brainchild', '3', 'time', 'pleas', 'may', 'poem', ':D']\n",
      "1\t0.43127057\tb'vote brainchild 3 time pleas may poem :D'\n",
      "THE TWEET IS: Fell asleep at like 6:30 and now can't fall asleep and I have to be up in two hours :-)\n",
      "THE PROCESSED TWEET IS: ['fell', 'asleep', 'like', '6:30', \"can't\", 'fall', 'asleep', 'two', 'hour', ':-)']\n",
      "1\t0.43960349\tb\"fell asleep like 6:30 can't fall asleep two hour :-)\"\n",
      "THE TWEET IS: First leg of the @magictrikband tour is going well! :D #music #band #rock #magictrik #tour https://t.co/CQHqWfa7ft\n",
      "THE PROCESSED TWEET IS: ['first', 'leg', 'tour', 'go', 'well', ':D', 'music', 'band', 'rock', 'magictrik', 'tour']\n",
      "1\t0.49295049\tb'first leg tour go well :D music band rock magictrik tour'\n",
      "THE TWEET IS: @sakshij020 @shabnam_903 okk den call abp n spread it on allover d India n abroad as well :p\n",
      "THE PROCESSED TWEET IS: ['okk', 'den', 'call', 'abp', 'n', 'spread', 'allov', 'india', 'n', 'abroad', 'well', ':p']\n",
      "1\t0.48673199\tb'okk den call abp n spread allov india n abroad well :p'\n",
      "THE TWEET IS: @emily_etc I always walk past this place! May have to go in and try them for myself now ! :D\n",
      "THE PROCESSED TWEET IS: ['alway', 'walk', 'past', 'place', 'may', 'go', 'tri', ':D']\n",
      "1\t0.47639424\tb'alway walk past place may go tri :D'\n",
      "THE TWEET IS: @babypuffinator it does, you could have misread worse things :p\n",
      "THE PROCESSED TWEET IS: ['could', 'misread', 'wors', 'thing', ':p']\n",
      "1\t0.48269975\tb'could misread wors thing :p'\n",
      "THE TWEET IS: Yup, happen everywhere when people cant debate they come to name calling :-)  https://t.co/dRiMWpj7ON\n",
      "THE PROCESSED TWEET IS: ['yup', 'happen', 'everywher', 'peopl', 'cant', 'debat', 'come', 'name', 'call', ':-)']\n",
      "1\t0.49660142\tb'yup happen everywher peopl cant debat come name call :-)'\n",
      "THE TWEET IS: I WANT to create the FIRST #Bboying #Cardgame with #pixelart #gamedesign :D!!!! What do you think ?? #indiedev #pixel_dailies #gamedev\n",
      "THE PROCESSED TWEET IS: ['want', 'creat', 'first', 'bboy', 'cardgam', 'pixelart', 'gamedesign', ':D', 'think', 'indiedev', 'pixel_daili', 'gamedev']\n",
      "1\t0.48541596\tb'want creat first bboy cardgam pixelart gamedesign :D think indiedev pixel_daili gamedev'\n",
      "THE TWEET IS: @melfoster666 That's not true.\n",
      "I can quit whenever I want to.\n",
      ":D\n",
      "THE PROCESSED TWEET IS: [\"that'\", 'true', 'quit', 'whenev', 'want', ':D']\n",
      "1\t0.48792810\tb\"that' true quit whenev want :D\"\n",
      "THE TWEET IS: Those who move forward with a happy spirit will find that things always work out \\:)/\n",
      "THE PROCESSED TWEET IS: ['move', 'forward', 'happi', 'spirit', 'find', 'thing', 'alway', 'work', '\\\\:']\n",
      "1\t0.44075885\tb'move forward happi spirit find thing alway work \\\\:'\n",
      "THE TWEET IS: @pop_ruth you miss this! :-) http://t.co/upXtepl57y\n",
      "THE PROCESSED TWEET IS: ['miss', ':-)']\n",
      "1\t0.48119690\tb'miss :-)'\n",
      "THE TWEET IS: I'm that person that has to workout and eat healthy because the minute I don't I gain weight :-)\n",
      "THE PROCESSED TWEET IS: [\"i'm\", 'person', 'workout', 'eat', 'healthi', 'minut', 'gain', 'weight', ':-)']\n",
      "1\t0.47295230\tb\"i'm person workout eat healthi minut gain weight :-)\"\n",
      "THE TWEET IS: That also means, imma go back to being more twitter active :D\n",
      "Cause I know everyone missed me ;) xD\n",
      "THE PROCESSED TWEET IS: ['also', 'mean', 'imma', 'go', 'back', 'twitter', 'activ', ':D', 'caus', 'know', 'everyon', 'miss', ';)', 'xd']\n",
      "1\t0.34256359\tb'also mean imma go back twitter activ :D caus know everyon miss ;) xd'\n",
      "THE TWEET IS: @awad_gina @phonicfm @WomenAwards Oh Gina, you have been busy :-) Can't wait to see you and hear all xxx #soproud\n",
      "THE PROCESSED TWEET IS: ['oh', 'gina', 'busi', ':-)', \"can't\", 'wait', 'see', 'hear', 'xxx', 'soproud']\n",
      "1\t0.45035203\tb\"oh gina busi :-) can't wait see hear xxx soproud\"\n",
      "THE TWEET IS: @TheTwoHalvesAle Good luck...another potential favourite watering hole :-)\n",
      "THE PROCESSED TWEET IS: ['good', 'luck', '...', 'anoth', 'potenti', 'favourit', 'water', 'hole', ':-)']\n",
      "1\t0.47844239\tb'good luck ... anoth potenti favourit water hole :-)'\n",
      "THE TWEET IS: @pottorty awwww! Sige next time u know na punta kayo dun, imma make sure na we'll go din! :-)\n",
      "THE PROCESSED TWEET IS: ['awww', 'sige', 'next', 'time', 'u', 'know', 'na', 'punta', 'kayo', 'dun', 'imma', 'make', 'sure', 'na', \"we'll\", 'go', 'din', ':-)']\n",
      "1\t0.35611250\tb\"awww sige next time u know na punta kayo dun imma make sure na we'll go din :-)\"\n",
      "THE TWEET IS: ...because it's Friday :D (y) http://t.co/MD55NIzEnQ\n",
      "THE PROCESSED TWEET IS: ['...', 'friday', ':D']\n",
      "1\t0.49901323\tb'... friday :D'\n",
      "THE TWEET IS: @vickybeeching congratulations, really looking forward to the book and some good Sunday morning viewing. That's an awesome teapot BTW :-) x\n",
      "THE PROCESSED TWEET IS: ['congratul', 'realli', 'look', 'forward', 'book', 'good', 'sunday', 'morn', 'view', \"that'\", 'awesom', 'teapot', 'btw', ':-)', 'x']\n",
      "1\t0.49819637\tb\"congratul realli look forward book good sunday morn view that' awesom teapot btw :-) x\"\n",
      "THE TWEET IS: @PXC_Macavity In case you didn't.. it's on my Facebook wall. :p\n",
      "THE PROCESSED TWEET IS: ['case', '..', 'facebook', 'wall', ':p']\n",
      "1\t0.48852385\tb'case .. facebook wall :p'\n",
      "THE TWEET IS: Check this page belonging to one of our Watford Community Housing Trust enterprise cube particpants :-)... http://t.co/ZwaOnouXpo\n",
      "THE PROCESSED TWEET IS: ['check', 'page', 'belong', 'one', 'watford', 'commun', 'hous', 'trust', 'enterpris', 'cube', 'particp', ':-)', '...']\n",
      "1\t0.45467645\tb'check page belong one watford commun hous trust enterpris cube particp :-) ...'\n",
      "THE TWEET IS: @hufflepuffjimin omg thats such a sweet thing to say thank you :-) yeah i used to go to saudi arabia a lot because of my dad\n",
      "THE PROCESSED TWEET IS: ['omg', 'that', 'sweet', 'thing', 'say', 'thank', ':-)', 'yeah', 'use', 'go', 'saudi', 'arabia', 'lot', 'dad']\n",
      "1\t0.49543619\tb'omg that sweet thing say thank :-) yeah use go saudi arabia lot dad'\n",
      "THE TWEET IS: off to the park to get some sunlight : )\n",
      "THE PROCESSED TWEET IS: ['park', 'get', 'sunlight']\n",
      "1\t0.44355642\tb'park get sunlight'\n",
      "THE TWEET IS: @SaddestTiger @davedittell   Good night, Tiger!  Sweet furry dreams!   : ) xxoo\n",
      "THE PROCESSED TWEET IS: ['good', 'night', 'tiger', 'sweet', 'furri', 'dream', 'xxoo']\n",
      "1\t0.48187283\tb'good night tiger sweet furri dream xxoo'\n",
      "THE TWEET IS: I'm so insecure tonight :-)\n",
      "THE PROCESSED TWEET IS: [\"i'm\", 'insecur', 'tonight', ':-)']\n",
      "1\t0.48068829\tb\"i'm insecur tonight :-)\"\n",
      "THE TWEET IS: at first I did love you, but now I just wanna fuck, late night thinking of you until I got a nut :-) :v\n",
      "\n",
      "\"look... http://t.co/8YhLcb16Lf\n",
      "THE PROCESSED TWEET IS: ['first', 'love', 'wanna', 'fuck', 'late', 'night', 'think', 'got', 'nut', ':-)', 'v', 'look', '...']\n",
      "1\t0.35711491\tb'first love wanna fuck late night think got nut :-) v look ...'\n",
      "THE TWEET IS: @gculloty87 @linda_regan Oh fab Gav she's a lovely lovely lady Linda talked to her a few times on here great actress :D X\n",
      "THE PROCESSED TWEET IS: ['oh', 'fab', 'gav', 'love', 'love', 'ladi', 'linda', 'talk', 'time', 'great', 'actress', ':D', 'x']\n",
      "1\t0.49490792\tb'oh fab gav love love ladi linda talk time great actress :D x'\n",
      "THE TWEET IS: @MCunleashed :D I can't sleep until I need to. If I try I just lay in bed bored\n",
      "THE PROCESSED TWEET IS: [':D', \"can't\", 'sleep', 'need', 'tri', 'lay', 'bed', 'bore']\n",
      "1\t0.43572651\tb\":D can't sleep need tri lay bed bore\"\n",
      "THE TWEET IS: TY again dear Eva.\n",
      "I'm totally agree with you :-)))\n",
      "@anvy2446 @4HUMANITEEs @SexyAF12 @kikbella @adasamper @RachelLFilsoof\n",
      "Keep Smiling u all\n",
      "THE PROCESSED TWEET IS: ['ty', 'dear', 'eva', \"i'm\", 'total', 'agre', ':-)', 'keep', 'smile', 'u']\n",
      "1\t0.44470891\tb\"ty dear eva i'm total agre :-) keep smile u\"\n",
      "THE TWEET IS: On another note, found this in Camden Town... :D worked to. http://t.co/MDtJGcXopb\n",
      "THE PROCESSED TWEET IS: ['anoth', 'note', 'found', 'camden', 'town', '...', ':D', 'work']\n",
      "1\t0.44610945\tb'anoth note found camden town ... :D work'\n",
      "THE TWEET IS: Oh lovely lovelayyy! Thanks! It is ok about the kidney.. I don't want it anyway. :p https://t.co/ZbO0cjqhzG\n",
      "THE PROCESSED TWEET IS: ['oh', 'love', 'lovelayyy', 'thank', 'ok', 'kidney', '..', 'want', 'anyway', ':p']\n",
      "1\t0.41751406\tb'oh love lovelayyy thank ok kidney .. want anyway :p'\n",
      "THE TWEET IS: @msarosh Uff Itna Miss karhy thy ap :p\n",
      "THE PROCESSED TWEET IS: ['uff', 'itna', 'miss', 'karhi', 'thi', 'ap', ':p']\n",
      "1\t0.41321381\tb'uff itna miss karhi thi ap :p'\n",
      "THE TWEET IS: @NASA nuf with the teasing already - show us the aliens now - everyday we seem to get closer to seeing our alien cousins :-)\n",
      "THE PROCESSED TWEET IS: ['nuf', 'teas', 'alreadi', 'show', 'us', 'alien', 'everyday', 'seem', 'get', 'closer', 'see', 'alien', 'cousin', ':-)']\n",
      "1\t0.47592879\tb'nuf teas alreadi show us alien everyday seem get closer see alien cousin :-)'\n",
      "THE TWEET IS: @SwgGuy Hah.... :D\n",
      "Don't say sorry...\n",
      "THE PROCESSED TWEET IS: ['hah', '...', ':D', 'say', 'sorri', '...']\n",
      "1\t0.34248315\tb'hah ... :D say sorri ...'\n",
      "THE TWEET IS: That feeling when someone shares a review you worked hard on :D\n",
      "THE PROCESSED TWEET IS: ['feel', 'someon', 'share', 'review', 'work', 'hard', ':D']\n",
      "1\t0.47428292\tb'feel someon share review work hard :D'\n",
      "THE TWEET IS: \"You make me alive, You make me suffer, You make me feel.. \n",
      "\n",
      "Addictive song i always sing in KARAOKE :-)..\n",
      "THE PROCESSED TWEET IS: ['make', 'aliv', 'make', 'suffer', 'make', 'feel', '..', 'addict', 'song', 'alway', 'sing', 'karaok', ':-)', '..']\n",
      "1\t0.37533019\tb'make aliv make suffer make feel .. addict song alway sing karaok :-) ..'\n",
      "THE TWEET IS: @SarahFHandley this one looks like it needs much more careful study I'll favourite it for later :-)\n",
      "THE PROCESSED TWEET IS: ['one', 'look', 'like', 'need', 'much', 'care', 'studi', \"i'll\", 'favourit', 'later', ':-)']\n",
      "1\t0.39678290\tb\"one look like need much care studi i'll favourit later :-)\"\n",
      "THE TWEET IS: @_Lineo_M_ LOL I sometimes tweet from @Coach_Yanga account lol but only on days when we are both home but I dont have a lot to say now :D\n",
      "THE PROCESSED TWEET IS: ['lol', 'sometim', 'tweet', 'account', 'lol', 'day', 'home', 'dont', 'lot', 'say', ':D']\n",
      "1\t0.48455766\tb'lol sometim tweet account lol day home dont lot say :D'\n",
      "THE TWEET IS: 11:11 meet michael and hug him so tight and talk to him and tell him he's important and that I love him so much and make him smile :D\n",
      "THE PROCESSED TWEET IS: ['11:11', 'meet', 'michael', 'hug', 'tight', 'talk', 'tell', \"he'\", 'import', 'love', 'much', 'make', 'smile', ':D']\n",
      "1\t0.46790744\tb\"11:11 meet michael hug tight talk tell he' import love much make smile :D\"\n",
      "THE TWEET IS: me: as long as i feel comfortable im gonna wear what i want\n",
      "my mother: haha...that sounds nice...but no :-)\n",
      "THE PROCESSED TWEET IS: ['long', 'feel', 'comfort', 'im', 'gonna', 'wear', 'want', 'mother', 'haha', '...', 'sound', 'nice', '...', ':-)']\n",
      "1\t0.23712577\tb'long feel comfort im gonna wear want mother haha ... sound nice ... :-)'\n",
      "THE TWEET IS: all i've done today is watch law &amp; order: svu. i love being sick :-)))\n",
      "THE PROCESSED TWEET IS: [\"i'v\", 'done', 'today', 'watch', 'law', 'order', 'svu', 'love', 'sick', ':-)']\n",
      "1\t0.48712154\tb\"i'v done today watch law order svu love sick :-)\"\n",
      "THE TWEET IS: As the morning wears on, its getting darker. Is it end of world day today instead of September? :-)\n",
      "THE PROCESSED TWEET IS: ['morn', 'wear', 'get', 'darker', 'end', 'world', 'day', 'today', 'instead', 'septemb', ':-)']\n",
      "1\t0.46305204\tb'morn wear get darker end world day today instead septemb :-)'\n",
      "THE TWEET IS: @nair_rinku -Its u with transparent...glasses..:-)\n",
      "THE PROCESSED TWEET IS: ['u', 'transpar', '...', 'glass', '..', ':-)']\n",
      "1\t0.43421949\tb'u transpar ... glass .. :-)'\n",
      "THE TWEET IS: @basementgalaxy Ping! I'm watching your TL like a hawk! :D\n",
      "THE PROCESSED TWEET IS: ['ping', \"i'm\", 'watch', 'tl', 'like', 'hawk', ':D']\n",
      "1\t0.41007127\tb\"ping i'm watch tl like hawk :D\"\n",
      "THE TWEET IS: Well this totally blew my mind this morning : ) https://t.co/jjXcm44YPJ\n",
      "THE PROCESSED TWEET IS: ['well', 'total', 'blew', 'mind', 'morn']\n",
      "1\t0.48606713\tb'well total blew mind morn'\n",
      "THE TWEET IS: @thevieweast Of course! Now I've been cited in an academic paper I feel I've arrived :-)\n",
      "THE PROCESSED TWEET IS: ['cours', \"i'v\", 'cite', 'academ', 'paper', 'feel', \"i'v\", 'arriv', ':-)']\n",
      "1\t0.48256311\tb\"cours i'v cite academ paper feel i'v arriv :-)\"\n",
      "THE TWEET IS: @kevinngmingyuan peasant seats to watch a peasant team...I don't mind :p ahahha\n",
      "THE PROCESSED TWEET IS: ['peasant', 'seat', 'watch', 'peasant', 'team', '...', 'mind', ':p', 'ahahha']\n",
      "1\t0.40382662\tb'peasant seat watch peasant team ... mind :p ahahha'\n",
      "THE TWEET IS: pats jay : (\n",
      "THE PROCESSED TWEET IS: ['pat', 'jay']\n",
      "0\t0.50044941\tb'pat jay'\n",
      "THE TWEET IS: Sr. Financial Analyst - Expedia, Inc.: (#Bellevue, WA) http://t.co/ktknMhvwCI #Finance #ExpediaJobs #Job #Jobs #Hiring\n",
      "THE PROCESSED TWEET IS: ['sr', 'financi', 'analyst', 'expedia', 'inc', 'bellevu', 'wa', 'financ', 'expediajob', 'job', 'job', 'hire']\n",
      "0\t0.50134408\tb'sr financi analyst expedia inc bellevu wa financ expediajob job job hire'\n"
     ]
    }
   ],
   "source": [
    "# Some error analysis done for you\n",
    "print('Label Predicted Tweet')\n",
    "for x,y in zip(test_x,test_y):\n",
    "    y_hat = predict_tweet(x, freqs, theta)\n",
    "\n",
    "    if np.abs(y - (y_hat > 0.5)) > 0:\n",
    "        print('THE TWEET IS:', x)\n",
    "        print('THE PROCESSED TWEET IS:', process_tweet(x))\n",
    "        print('%d\\t%0.8f\\t%s' % (y, y_hat, ' '.join(process_tweet(x)).encode('ascii', 'ignore')))"
   ]
  },
  {
   "cell_type": "markdown",
   "metadata": {},
   "source": [
    "Later in this specialization, we will see how we can use deeplearning to improve the prediction performance."
   ]
  },
  {
   "cell_type": "markdown",
   "metadata": {},
   "source": [
    "<a name='6'></a>\n",
    "## 6 - Predict with your own Tweet"
   ]
  },
  {
   "cell_type": "code",
   "execution_count": 79,
   "metadata": {},
   "outputs": [
    {
     "name": "stdout",
     "output_type": "stream",
     "text": [
      "['ridicul', 'bright', 'movi', 'plot', 'terribl', 'sad', 'end']\n",
      "0.431669956272587\n",
      "Negative sentiment\n"
     ]
    }
   ],
   "source": [
    "# Feel free to change the tweet below\n",
    "my_tweet = 'This is a ridiculously bright movie. The plot was terrible and I was sad until the ending!'\n",
    "print(process_tweet(my_tweet))\n",
    "y_hat = predict_tweet(my_tweet, freqs, theta)\n",
    "print(y_hat)\n",
    "if y_hat > 0.5:\n",
    "    print('Positive sentiment')\n",
    "else: \n",
    "    print('Negative sentiment')"
   ]
  },
  {
   "cell_type": "code",
   "execution_count": null,
   "metadata": {},
   "outputs": [],
   "source": []
  }
 ],
 "metadata": {
  "kernelspec": {
   "display_name": "Python 3",
   "language": "python",
   "name": "python3"
  },
  "language_info": {
   "codemirror_mode": {
    "name": "ipython",
    "version": 3
   },
   "file_extension": ".py",
   "mimetype": "text/x-python",
   "name": "python",
   "nbconvert_exporter": "python",
   "pygments_lexer": "ipython3",
   "version": "3.7.6"
  }
 },
 "nbformat": 4,
 "nbformat_minor": 4
}
